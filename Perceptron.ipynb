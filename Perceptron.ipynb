{
 "cells": [
  {
   "cell_type": "code",
   "execution_count": 402,
   "metadata": {},
   "outputs": [],
   "source": [
    "def f(x):\n",
    "    return 3*x + 2"
   ]
  },
  {
   "cell_type": "code",
   "execution_count": 403,
   "metadata": {},
   "outputs": [],
   "source": [
    "import random\n",
    "\n",
    "def sign(n):\n",
    "    if n >= 0:\n",
    "        return 1\n",
    "    else:\n",
    "        return -1\n",
    "\n",
    "class Perceptron():\n",
    "    def __init__(self, inputSize):\n",
    "        self.weights = [0]*(inputSize + 1) # +1 due to the bias\n",
    "        self.lr = 0.0000005 # learning rate\n",
    "\n",
    "    def guess(self, inputs):\n",
    "        sum = 0\n",
    "        for i in range(len(inputs)):\n",
    "            sum += inputs[i]*self.weights[i]\n",
    "        return sign(sum)\n",
    "\n",
    "    def train(self, inputs, correct):\n",
    "        guess = self.guess(inputs)\n",
    "        error = correct - guess\n",
    "        #tune the weights\n",
    "        for i in range(len(inputs)):\n",
    "            self.weights[i] += error*inputs[i]*self.lr\n"
   ]
  },
  {
   "cell_type": "code",
   "execution_count": 404,
   "metadata": {},
   "outputs": [],
   "source": [
    "# I'll use y = x line to classify points\n",
    "\n",
    "class Point():\n",
    "    def __init__(self):\n",
    "        self.x = random.uniform(-1, 1)\n",
    "        self.y = random.randint(-1, 1)\n",
    "        self.bias = 1\n",
    "\n",
    "        self.label = 1\n",
    "        if f(self.x) >= self.y:\n",
    "            self.label = -1\n",
    "    "
   ]
  },
  {
   "cell_type": "code",
   "execution_count": 405,
   "metadata": {},
   "outputs": [],
   "source": [
    "# creating dataset\n",
    "\n",
    "points = []\n",
    "for p in range(1000000):\n",
    "    points.append(Point())"
   ]
  },
  {
   "cell_type": "code",
   "execution_count": 406,
   "metadata": {},
   "outputs": [
    {
     "name": "stdout",
     "output_type": "stream",
     "text": [
      "An error!\n",
      "An error!\n",
      "An error!\n",
      "Precision: 100.00%\n",
      "Perceptron's function: 2.9999340685286935x + (1.9999999999999996)\n"
     ]
    }
   ],
   "source": [
    "perceptron = Perceptron(2)\n",
    "\n",
    "for p in points:\n",
    "    inputs = [p.x, p.y, p.bias]\n",
    "    perceptron.train(inputs, p.label)\n",
    "\n",
    "errors = 0\n",
    "for p in points:\n",
    "    inputs = [p.x, p.y, p.bias]\n",
    "    guess = perceptron.guess(inputs)\n",
    "    if guess != p.label:\n",
    "        print(\"An error!\")\n",
    "        errors += 1\n",
    "\n",
    "print(f\"Precision: {(100 - (errors/len(points))*100):.2f}%\")\n",
    "\n",
    "print(f\"Perceptron's function: {-(perceptron.weights[0]/perceptron.weights[1])}x + ({-perceptron.weights[2]/perceptron.weights[1]})\")"
   ]
  }
 ],
 "metadata": {
  "kernelspec": {
   "display_name": "Python 3.8.8 ('base')",
   "language": "python",
   "name": "python3"
  },
  "language_info": {
   "codemirror_mode": {
    "name": "ipython",
    "version": 3
   },
   "file_extension": ".py",
   "mimetype": "text/x-python",
   "name": "python",
   "nbconvert_exporter": "python",
   "pygments_lexer": "ipython3",
   "version": "3.8.8"
  },
  "orig_nbformat": 4,
  "vscode": {
   "interpreter": {
    "hash": "ad2bdc8ecc057115af97d19610ffacc2b4e99fae6737bb82f5d7fb13d2f2c186"
   }
  }
 },
 "nbformat": 4,
 "nbformat_minor": 2
}
