{
 "cells": [
  {
   "cell_type": "code",
   "execution_count": 442,
   "metadata": {},
   "outputs": [],
   "source": [
    "import numpy as np\n",
    "\n",
    "activation = lambda x: np.tanh(x)\n",
    "d_activation = lambda y: y/np.tanh(y) - np.tanh(np.arctanh(y))**2 # already 'activated'; The derivative is 1 - tanh2(x)"
   ]
  },
  {
   "cell_type": "code",
   "execution_count": 443,
   "metadata": {},
   "outputs": [],
   "source": [
    "class NeuralNetwork():\n",
    "    def __init__(self, numI, numH, numO):\n",
    "        self.input_nodes = numI\n",
    "        self.hidden_nodes = numH\n",
    "        self.output_nodes = numO\n",
    "        self.lr = 0.1\n",
    "\n",
    "        self.weights_ih = np.random.rand(self.hidden_nodes, self.input_nodes)\n",
    "        self.weights_ho = np.random.rand(self.output_nodes, self.hidden_nodes)\n",
    "        self.bias_h = np.random.rand(self.hidden_nodes, 1)\n",
    "        self.bias_o = np.random.rand(self.output_nodes, 1)\n",
    "\n",
    "    def feed_forward(self, inputs):\n",
    "        input = np.atleast_2d(inputs).T\n",
    "\n",
    "        hidden = self.weights_ih@input + self.bias_h\n",
    "        hidden = activation(hidden)\n",
    "\n",
    "        output = self.weights_ho@hidden + self.bias_o\n",
    "        output = activation(output)\n",
    "\n",
    "        return output\n",
    "\n",
    "    def train(self, inputs, targets):\n",
    "        # Feed Forward\n",
    "        input = np.atleast_2d(inputs).T\n",
    "        hidden = self.weights_ih@input + self.bias_h\n",
    "        hidden = activation(hidden)\n",
    "        output = self.weights_ho@hidden + self.bias_o\n",
    "        output = activation(output)\n",
    "\n",
    "        target = np.atleast_2d(targets).T\n",
    "\n",
    "        # Error and Delta Weight\n",
    "        output_error = target - output\n",
    "        hidden_error = self.weights_ho.T @ output_error\n",
    "\n",
    "        gradient_ho = self.lr * output_error * d_activation(output)\n",
    "        delta_weights_ho = gradient_ho@hidden.T\n",
    "        delta_bias_o = gradient_ho\n",
    "\n",
    "        gradient_ih = self.lr * hidden_error * d_activation(hidden)\n",
    "        delta_weights_ih = gradient_ih@input.T\n",
    "        delta_bias_h = gradient_ih\n",
    "\n",
    "        # Changing the Weights\n",
    "        self.weights_ho += delta_weights_ho\n",
    "        self.bias_o += delta_bias_o\n",
    "        \n",
    "        self.weights_ih += delta_weights_ih\n",
    "        self.bias_h += delta_bias_h"
   ]
  },
  {
   "cell_type": "code",
   "execution_count": 444,
   "metadata": {},
   "outputs": [
    {
     "name": "stdout",
     "output_type": "stream",
     "text": [
      "0, 0 -> [[7.45592978e-05]]\n",
      "0, 1 -> [[0.99775006]]\n",
      "1, 0 -> [[0.99775466]]\n",
      "1, 1 -> [[0.00102753]]\n"
     ]
    }
   ],
   "source": [
    "import random\n",
    "\n",
    "nn = NeuralNetwork(2, 2, 1)\n",
    "\n",
    "def xor(input):\n",
    "    if input[0] == input[1]:\n",
    "        return 0\n",
    "    else:\n",
    "        return 1\n",
    "\n",
    "for i in range(10000):\n",
    "    a = random.choice([-1, 1])\n",
    "    b = random.choice([-1, 1])\n",
    "    input = [a, b]\n",
    "    target = xor(input)\n",
    "    nn.train(input, target)\n",
    "\n",
    "print(f\"0, 0 -> {nn.feed_forward([-1,-1])}\")\n",
    "print(f\"0, 1 -> {nn.feed_forward([-1,1])}\")\n",
    "print(f\"1, 0 -> {nn.feed_forward([1,-1])}\")\n",
    "print(f\"1, 1 -> {nn.feed_forward([1,1])}\")"
   ]
  },
  {
   "cell_type": "code",
   "execution_count": null,
   "metadata": {},
   "outputs": [],
   "source": []
  }
 ],
 "metadata": {
  "kernelspec": {
   "display_name": "Python 3.8.8 ('base')",
   "language": "python",
   "name": "python3"
  },
  "language_info": {
   "codemirror_mode": {
    "name": "ipython",
    "version": 3
   },
   "file_extension": ".py",
   "mimetype": "text/x-python",
   "name": "python",
   "nbconvert_exporter": "python",
   "pygments_lexer": "ipython3",
   "version": "3.8.8"
  },
  "orig_nbformat": 4,
  "vscode": {
   "interpreter": {
    "hash": "ad2bdc8ecc057115af97d19610ffacc2b4e99fae6737bb82f5d7fb13d2f2c186"
   }
  }
 },
 "nbformat": 4,
 "nbformat_minor": 2
}
